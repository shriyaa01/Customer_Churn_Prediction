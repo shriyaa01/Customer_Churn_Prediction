{
 "cells": [
  {
   "cell_type": "markdown",
   "id": "3ba2cbae",
   "metadata": {},
   "source": [
    "#  Customer Churn Prediction"
   ]
  },
  {
   "cell_type": "markdown",
   "id": "01c1aced",
   "metadata": {},
   "source": [
    "# 1. Data Preprocessing:"
   ]
  },
  {
   "cell_type": "code",
   "execution_count": 1,
   "id": "c3ee1167",
   "metadata": {},
   "outputs": [],
   "source": [
    "#Load the provided dataset and perform initial data exploration.\n",
    "import pandas as pd\n",
    "import numpy as np\n",
    "import matplotlib.pyplot as plt\n",
    "import seaborn as sns\n",
    "from sklearn.model_selection import train_test_split\n",
    "from sklearn.ensemble import RandomForestClassifier\n",
    "from sklearn.metrics import accuracy_score, classification_report, confusion_matrix"
   ]
  },
  {
   "cell_type": "code",
   "execution_count": 2,
   "id": "9eed30f0",
   "metadata": {},
   "outputs": [],
   "source": [
    "excel_file_path = 'customer_churn_large_dataset.xlsx'\n",
    "csv_file_path = 'df.csv'\n",
    "\n",
    "# Load the Excel file into a pandas DataFrame\n",
    "data = pd.read_excel(excel_file_path)\n",
    "\n",
    "# Save the DataFrame as a CSV file\n",
    "data.to_csv(csv_file_path, index=False) \n"
   ]
  },
  {
   "cell_type": "code",
   "execution_count": 3,
   "id": "a98cab6a",
   "metadata": {},
   "outputs": [
    {
     "data": {
      "text/html": [
       "<div>\n",
       "<style scoped>\n",
       "    .dataframe tbody tr th:only-of-type {\n",
       "        vertical-align: middle;\n",
       "    }\n",
       "\n",
       "    .dataframe tbody tr th {\n",
       "        vertical-align: top;\n",
       "    }\n",
       "\n",
       "    .dataframe thead th {\n",
       "        text-align: right;\n",
       "    }\n",
       "</style>\n",
       "<table border=\"1\" class=\"dataframe\">\n",
       "  <thead>\n",
       "    <tr style=\"text-align: right;\">\n",
       "      <th></th>\n",
       "      <th>CustomerID</th>\n",
       "      <th>Name</th>\n",
       "      <th>Age</th>\n",
       "      <th>Gender</th>\n",
       "      <th>Location</th>\n",
       "      <th>Subscription_Length_Months</th>\n",
       "      <th>Monthly_Bill</th>\n",
       "      <th>Total_Usage_GB</th>\n",
       "      <th>Churn</th>\n",
       "    </tr>\n",
       "  </thead>\n",
       "  <tbody>\n",
       "    <tr>\n",
       "      <th>0</th>\n",
       "      <td>1</td>\n",
       "      <td>Customer_1</td>\n",
       "      <td>63</td>\n",
       "      <td>Male</td>\n",
       "      <td>Los Angeles</td>\n",
       "      <td>17</td>\n",
       "      <td>73.36</td>\n",
       "      <td>236</td>\n",
       "      <td>0</td>\n",
       "    </tr>\n",
       "    <tr>\n",
       "      <th>1</th>\n",
       "      <td>2</td>\n",
       "      <td>Customer_2</td>\n",
       "      <td>62</td>\n",
       "      <td>Female</td>\n",
       "      <td>New York</td>\n",
       "      <td>1</td>\n",
       "      <td>48.76</td>\n",
       "      <td>172</td>\n",
       "      <td>0</td>\n",
       "    </tr>\n",
       "    <tr>\n",
       "      <th>2</th>\n",
       "      <td>3</td>\n",
       "      <td>Customer_3</td>\n",
       "      <td>24</td>\n",
       "      <td>Female</td>\n",
       "      <td>Los Angeles</td>\n",
       "      <td>5</td>\n",
       "      <td>85.47</td>\n",
       "      <td>460</td>\n",
       "      <td>0</td>\n",
       "    </tr>\n",
       "    <tr>\n",
       "      <th>3</th>\n",
       "      <td>4</td>\n",
       "      <td>Customer_4</td>\n",
       "      <td>36</td>\n",
       "      <td>Female</td>\n",
       "      <td>Miami</td>\n",
       "      <td>3</td>\n",
       "      <td>97.94</td>\n",
       "      <td>297</td>\n",
       "      <td>1</td>\n",
       "    </tr>\n",
       "    <tr>\n",
       "      <th>4</th>\n",
       "      <td>5</td>\n",
       "      <td>Customer_5</td>\n",
       "      <td>46</td>\n",
       "      <td>Female</td>\n",
       "      <td>Miami</td>\n",
       "      <td>19</td>\n",
       "      <td>58.14</td>\n",
       "      <td>266</td>\n",
       "      <td>0</td>\n",
       "    </tr>\n",
       "  </tbody>\n",
       "</table>\n",
       "</div>"
      ],
      "text/plain": [
       "   CustomerID        Name  Age  Gender     Location  \\\n",
       "0           1  Customer_1   63    Male  Los Angeles   \n",
       "1           2  Customer_2   62  Female     New York   \n",
       "2           3  Customer_3   24  Female  Los Angeles   \n",
       "3           4  Customer_4   36  Female        Miami   \n",
       "4           5  Customer_5   46  Female        Miami   \n",
       "\n",
       "   Subscription_Length_Months  Monthly_Bill  Total_Usage_GB  Churn  \n",
       "0                          17         73.36             236      0  \n",
       "1                           1         48.76             172      0  \n",
       "2                           5         85.47             460      0  \n",
       "3                           3         97.94             297      1  \n",
       "4                          19         58.14             266      0  "
      ]
     },
     "execution_count": 3,
     "metadata": {},
     "output_type": "execute_result"
    }
   ],
   "source": [
    "data.head()"
   ]
  },
  {
   "cell_type": "code",
   "execution_count": 4,
   "id": "f7c1f91e",
   "metadata": {},
   "outputs": [
    {
     "data": {
      "text/html": [
       "<div>\n",
       "<style scoped>\n",
       "    .dataframe tbody tr th:only-of-type {\n",
       "        vertical-align: middle;\n",
       "    }\n",
       "\n",
       "    .dataframe tbody tr th {\n",
       "        vertical-align: top;\n",
       "    }\n",
       "\n",
       "    .dataframe thead th {\n",
       "        text-align: right;\n",
       "    }\n",
       "</style>\n",
       "<table border=\"1\" class=\"dataframe\">\n",
       "  <thead>\n",
       "    <tr style=\"text-align: right;\">\n",
       "      <th></th>\n",
       "      <th>CustomerID</th>\n",
       "      <th>Name</th>\n",
       "      <th>Age</th>\n",
       "      <th>Gender</th>\n",
       "      <th>Location</th>\n",
       "      <th>Subscription_Length_Months</th>\n",
       "      <th>Monthly_Bill</th>\n",
       "      <th>Total_Usage_GB</th>\n",
       "      <th>Churn</th>\n",
       "    </tr>\n",
       "  </thead>\n",
       "  <tbody>\n",
       "    <tr>\n",
       "      <th>99995</th>\n",
       "      <td>99996</td>\n",
       "      <td>Customer_99996</td>\n",
       "      <td>33</td>\n",
       "      <td>Male</td>\n",
       "      <td>Houston</td>\n",
       "      <td>23</td>\n",
       "      <td>55.13</td>\n",
       "      <td>226</td>\n",
       "      <td>1</td>\n",
       "    </tr>\n",
       "    <tr>\n",
       "      <th>99996</th>\n",
       "      <td>99997</td>\n",
       "      <td>Customer_99997</td>\n",
       "      <td>62</td>\n",
       "      <td>Female</td>\n",
       "      <td>New York</td>\n",
       "      <td>19</td>\n",
       "      <td>61.65</td>\n",
       "      <td>351</td>\n",
       "      <td>0</td>\n",
       "    </tr>\n",
       "    <tr>\n",
       "      <th>99997</th>\n",
       "      <td>99998</td>\n",
       "      <td>Customer_99998</td>\n",
       "      <td>64</td>\n",
       "      <td>Male</td>\n",
       "      <td>Chicago</td>\n",
       "      <td>17</td>\n",
       "      <td>96.11</td>\n",
       "      <td>251</td>\n",
       "      <td>1</td>\n",
       "    </tr>\n",
       "    <tr>\n",
       "      <th>99998</th>\n",
       "      <td>99999</td>\n",
       "      <td>Customer_99999</td>\n",
       "      <td>51</td>\n",
       "      <td>Female</td>\n",
       "      <td>New York</td>\n",
       "      <td>20</td>\n",
       "      <td>49.25</td>\n",
       "      <td>434</td>\n",
       "      <td>1</td>\n",
       "    </tr>\n",
       "    <tr>\n",
       "      <th>99999</th>\n",
       "      <td>100000</td>\n",
       "      <td>Customer_100000</td>\n",
       "      <td>27</td>\n",
       "      <td>Female</td>\n",
       "      <td>Los Angeles</td>\n",
       "      <td>19</td>\n",
       "      <td>76.57</td>\n",
       "      <td>173</td>\n",
       "      <td>1</td>\n",
       "    </tr>\n",
       "  </tbody>\n",
       "</table>\n",
       "</div>"
      ],
      "text/plain": [
       "       CustomerID             Name  Age  Gender     Location  \\\n",
       "99995       99996   Customer_99996   33    Male      Houston   \n",
       "99996       99997   Customer_99997   62  Female     New York   \n",
       "99997       99998   Customer_99998   64    Male      Chicago   \n",
       "99998       99999   Customer_99999   51  Female     New York   \n",
       "99999      100000  Customer_100000   27  Female  Los Angeles   \n",
       "\n",
       "       Subscription_Length_Months  Monthly_Bill  Total_Usage_GB  Churn  \n",
       "99995                          23         55.13             226      1  \n",
       "99996                          19         61.65             351      0  \n",
       "99997                          17         96.11             251      1  \n",
       "99998                          20         49.25             434      1  \n",
       "99999                          19         76.57             173      1  "
      ]
     },
     "execution_count": 4,
     "metadata": {},
     "output_type": "execute_result"
    }
   ],
   "source": [
    "data.tail()"
   ]
  },
  {
   "cell_type": "code",
   "execution_count": 5,
   "id": "0525857f",
   "metadata": {},
   "outputs": [
    {
     "data": {
      "text/html": [
       "<div>\n",
       "<style scoped>\n",
       "    .dataframe tbody tr th:only-of-type {\n",
       "        vertical-align: middle;\n",
       "    }\n",
       "\n",
       "    .dataframe tbody tr th {\n",
       "        vertical-align: top;\n",
       "    }\n",
       "\n",
       "    .dataframe thead th {\n",
       "        text-align: right;\n",
       "    }\n",
       "</style>\n",
       "<table border=\"1\" class=\"dataframe\">\n",
       "  <thead>\n",
       "    <tr style=\"text-align: right;\">\n",
       "      <th></th>\n",
       "      <th>CustomerID</th>\n",
       "      <th>Age</th>\n",
       "      <th>Subscription_Length_Months</th>\n",
       "      <th>Monthly_Bill</th>\n",
       "      <th>Total_Usage_GB</th>\n",
       "      <th>Churn</th>\n",
       "    </tr>\n",
       "  </thead>\n",
       "  <tbody>\n",
       "    <tr>\n",
       "      <th>count</th>\n",
       "      <td>100000.000000</td>\n",
       "      <td>100000.000000</td>\n",
       "      <td>100000.000000</td>\n",
       "      <td>100000.000000</td>\n",
       "      <td>100000.000000</td>\n",
       "      <td>100000.000000</td>\n",
       "    </tr>\n",
       "    <tr>\n",
       "      <th>mean</th>\n",
       "      <td>50000.500000</td>\n",
       "      <td>44.027020</td>\n",
       "      <td>12.490100</td>\n",
       "      <td>65.053197</td>\n",
       "      <td>274.393650</td>\n",
       "      <td>0.497790</td>\n",
       "    </tr>\n",
       "    <tr>\n",
       "      <th>std</th>\n",
       "      <td>28867.657797</td>\n",
       "      <td>15.280283</td>\n",
       "      <td>6.926461</td>\n",
       "      <td>20.230696</td>\n",
       "      <td>130.463063</td>\n",
       "      <td>0.499998</td>\n",
       "    </tr>\n",
       "    <tr>\n",
       "      <th>min</th>\n",
       "      <td>1.000000</td>\n",
       "      <td>18.000000</td>\n",
       "      <td>1.000000</td>\n",
       "      <td>30.000000</td>\n",
       "      <td>50.000000</td>\n",
       "      <td>0.000000</td>\n",
       "    </tr>\n",
       "    <tr>\n",
       "      <th>25%</th>\n",
       "      <td>25000.750000</td>\n",
       "      <td>31.000000</td>\n",
       "      <td>6.000000</td>\n",
       "      <td>47.540000</td>\n",
       "      <td>161.000000</td>\n",
       "      <td>0.000000</td>\n",
       "    </tr>\n",
       "    <tr>\n",
       "      <th>50%</th>\n",
       "      <td>50000.500000</td>\n",
       "      <td>44.000000</td>\n",
       "      <td>12.000000</td>\n",
       "      <td>65.010000</td>\n",
       "      <td>274.000000</td>\n",
       "      <td>0.000000</td>\n",
       "    </tr>\n",
       "    <tr>\n",
       "      <th>75%</th>\n",
       "      <td>75000.250000</td>\n",
       "      <td>57.000000</td>\n",
       "      <td>19.000000</td>\n",
       "      <td>82.640000</td>\n",
       "      <td>387.000000</td>\n",
       "      <td>1.000000</td>\n",
       "    </tr>\n",
       "    <tr>\n",
       "      <th>max</th>\n",
       "      <td>100000.000000</td>\n",
       "      <td>70.000000</td>\n",
       "      <td>24.000000</td>\n",
       "      <td>100.000000</td>\n",
       "      <td>500.000000</td>\n",
       "      <td>1.000000</td>\n",
       "    </tr>\n",
       "  </tbody>\n",
       "</table>\n",
       "</div>"
      ],
      "text/plain": [
       "          CustomerID            Age  Subscription_Length_Months  \\\n",
       "count  100000.000000  100000.000000               100000.000000   \n",
       "mean    50000.500000      44.027020                   12.490100   \n",
       "std     28867.657797      15.280283                    6.926461   \n",
       "min         1.000000      18.000000                    1.000000   \n",
       "25%     25000.750000      31.000000                    6.000000   \n",
       "50%     50000.500000      44.000000                   12.000000   \n",
       "75%     75000.250000      57.000000                   19.000000   \n",
       "max    100000.000000      70.000000                   24.000000   \n",
       "\n",
       "        Monthly_Bill  Total_Usage_GB          Churn  \n",
       "count  100000.000000   100000.000000  100000.000000  \n",
       "mean       65.053197      274.393650       0.497790  \n",
       "std        20.230696      130.463063       0.499998  \n",
       "min        30.000000       50.000000       0.000000  \n",
       "25%        47.540000      161.000000       0.000000  \n",
       "50%        65.010000      274.000000       0.000000  \n",
       "75%        82.640000      387.000000       1.000000  \n",
       "max       100.000000      500.000000       1.000000  "
      ]
     },
     "execution_count": 5,
     "metadata": {},
     "output_type": "execute_result"
    }
   ],
   "source": [
    "data.describe()"
   ]
  },
  {
   "cell_type": "code",
   "execution_count": 6,
   "id": "d17ea43a",
   "metadata": {},
   "outputs": [
    {
     "data": {
      "text/plain": [
       "CustomerID                    0\n",
       "Name                          0\n",
       "Age                           0\n",
       "Gender                        0\n",
       "Location                      0\n",
       "Subscription_Length_Months    0\n",
       "Monthly_Bill                  0\n",
       "Total_Usage_GB                0\n",
       "Churn                         0\n",
       "dtype: int64"
      ]
     },
     "execution_count": 6,
     "metadata": {},
     "output_type": "execute_result"
    }
   ],
   "source": [
    "#Handle missing data and outliers data.\n",
    "data.isnull().sum()\n"
   ]
  },
  {
   "cell_type": "raw",
   "id": "d531106a",
   "metadata": {},
   "source": [
    "No missing values are there"
   ]
  },
  {
   "cell_type": "code",
   "execution_count": 7,
   "id": "8fc0ba04",
   "metadata": {},
   "outputs": [
    {
     "data": {
      "text/html": [
       "<div>\n",
       "<style scoped>\n",
       "    .dataframe tbody tr th:only-of-type {\n",
       "        vertical-align: middle;\n",
       "    }\n",
       "\n",
       "    .dataframe tbody tr th {\n",
       "        vertical-align: top;\n",
       "    }\n",
       "\n",
       "    .dataframe thead th {\n",
       "        text-align: right;\n",
       "    }\n",
       "</style>\n",
       "<table border=\"1\" class=\"dataframe\">\n",
       "  <thead>\n",
       "    <tr style=\"text-align: right;\">\n",
       "      <th></th>\n",
       "      <th>CustomerID</th>\n",
       "      <th>Age</th>\n",
       "      <th>Subscription_Length_Months</th>\n",
       "      <th>Monthly_Bill</th>\n",
       "      <th>Total_Usage_GB</th>\n",
       "      <th>Churn</th>\n",
       "    </tr>\n",
       "  </thead>\n",
       "  <tbody>\n",
       "    <tr>\n",
       "      <th>CustomerID</th>\n",
       "      <td>1.000000</td>\n",
       "      <td>-0.001085</td>\n",
       "      <td>0.005444</td>\n",
       "      <td>0.001265</td>\n",
       "      <td>-0.004025</td>\n",
       "      <td>-0.004586</td>\n",
       "    </tr>\n",
       "    <tr>\n",
       "      <th>Age</th>\n",
       "      <td>-0.001085</td>\n",
       "      <td>1.000000</td>\n",
       "      <td>0.003382</td>\n",
       "      <td>0.001110</td>\n",
       "      <td>0.001927</td>\n",
       "      <td>0.001559</td>\n",
       "    </tr>\n",
       "    <tr>\n",
       "      <th>Subscription_Length_Months</th>\n",
       "      <td>0.005444</td>\n",
       "      <td>0.003382</td>\n",
       "      <td>1.000000</td>\n",
       "      <td>-0.005294</td>\n",
       "      <td>-0.002203</td>\n",
       "      <td>0.002328</td>\n",
       "    </tr>\n",
       "    <tr>\n",
       "      <th>Monthly_Bill</th>\n",
       "      <td>0.001265</td>\n",
       "      <td>0.001110</td>\n",
       "      <td>-0.005294</td>\n",
       "      <td>1.000000</td>\n",
       "      <td>0.003187</td>\n",
       "      <td>-0.000211</td>\n",
       "    </tr>\n",
       "    <tr>\n",
       "      <th>Total_Usage_GB</th>\n",
       "      <td>-0.004025</td>\n",
       "      <td>0.001927</td>\n",
       "      <td>-0.002203</td>\n",
       "      <td>0.003187</td>\n",
       "      <td>1.000000</td>\n",
       "      <td>-0.002842</td>\n",
       "    </tr>\n",
       "    <tr>\n",
       "      <th>Churn</th>\n",
       "      <td>-0.004586</td>\n",
       "      <td>0.001559</td>\n",
       "      <td>0.002328</td>\n",
       "      <td>-0.000211</td>\n",
       "      <td>-0.002842</td>\n",
       "      <td>1.000000</td>\n",
       "    </tr>\n",
       "  </tbody>\n",
       "</table>\n",
       "</div>"
      ],
      "text/plain": [
       "                            CustomerID       Age  Subscription_Length_Months  \\\n",
       "CustomerID                    1.000000 -0.001085                    0.005444   \n",
       "Age                          -0.001085  1.000000                    0.003382   \n",
       "Subscription_Length_Months    0.005444  0.003382                    1.000000   \n",
       "Monthly_Bill                  0.001265  0.001110                   -0.005294   \n",
       "Total_Usage_GB               -0.004025  0.001927                   -0.002203   \n",
       "Churn                        -0.004586  0.001559                    0.002328   \n",
       "\n",
       "                            Monthly_Bill  Total_Usage_GB     Churn  \n",
       "CustomerID                      0.001265       -0.004025 -0.004586  \n",
       "Age                             0.001110        0.001927  0.001559  \n",
       "Subscription_Length_Months     -0.005294       -0.002203  0.002328  \n",
       "Monthly_Bill                    1.000000        0.003187 -0.000211  \n",
       "Total_Usage_GB                  0.003187        1.000000 -0.002842  \n",
       "Churn                          -0.000211       -0.002842  1.000000  "
      ]
     },
     "execution_count": 7,
     "metadata": {},
     "output_type": "execute_result"
    }
   ],
   "source": [
    "data.corr()"
   ]
  },
  {
   "cell_type": "raw",
   "id": "f2d7c9c2",
   "metadata": {},
   "source": [
    " Drop CustomerID and Name columns"
   ]
  },
  {
   "cell_type": "code",
   "execution_count": 8,
   "id": "ae3968fa",
   "metadata": {},
   "outputs": [],
   "source": [
    "#training and testing sets.\n",
    "data.drop(['CustomerID', 'Name'], axis=1, inplace=True)\n",
    "#assumed to be non-informative"
   ]
  },
  {
   "cell_type": "code",
   "execution_count": 9,
   "id": "4ff64bcd",
   "metadata": {},
   "outputs": [
    {
     "data": {
      "image/png": "[encoded data removed]",
      "text/plain": [
       "<Figure size 640x480 with 2 Axes>"
      ]
     },
     "metadata": {},
     "output_type": "display_data"
    }
   ],
   "source": [
    "corr = data.corr()\n",
    "sns.heatmap(corr,annot=True)\n",
    "\n",
    "plt.show()"
   ]
  },
  {
   "cell_type": "code",
   "execution_count": 10,
   "id": "77c921ae",
   "metadata": {},
   "outputs": [
    {
     "data": {
      "image/png": "[encoded data removed]",
      "text/plain": [
       "<Figure size 640x480 with 1 Axes>"
      ]
     },
     "metadata": {},
     "output_type": "display_data"
    }
   ],
   "source": [
    "plt.hist(data['Age'], bins=10, edgecolor='k')\n",
    "plt.xlabel('Age')\n",
    "plt.ylabel('Frequency')\n",
    "plt.title('Age Distribution')\n",
    "plt.show()"
   ]
  },
  {
   "cell_type": "markdown",
   "id": "cbf24ebb",
   "metadata": {},
   "source": [
    "#  Encode categorical variables"
   ]
  },
  {
   "cell_type": "code",
   "execution_count": 11,
   "id": "faf8afe2",
   "metadata": {},
   "outputs": [
    {
     "name": "stdout",
     "output_type": "stream",
     "text": [
      "Number of Distinct Locations: 5\n"
     ]
    }
   ],
   "source": [
    "\"\"\"Prepare the data for machine learning by encoding categorical variables and splitting it into\n",
    "training and testing sets.\"\"\"\n",
    "# Assuming 'data_encoded' is the DataFrame after preprocessing\n",
    "distinct_locations = data['Location'].nunique()\n",
    "\n",
    "print(\"Number of Distinct Locations:\", distinct_locations)\n"
   ]
  },
  {
   "cell_type": "code",
   "execution_count": 12,
   "id": "83cc30e2",
   "metadata": {},
   "outputs": [
    {
     "name": "stderr",
     "output_type": "stream",
     "text": [
      "C:\\Users\\SHRIYA\\anaconda3\\lib\\site-packages\\seaborn\\_decorators.py:36: FutureWarning: Pass the following variable as a keyword arg: x. From version 0.12, the only valid positional argument will be `data`, and passing other arguments without an explicit keyword will result in an error or misinterpretation.\n",
      "  warnings.warn(\n"
     ]
    },
    {
     "data": {
      "image/png": "[encoded data removed]",
      "text/plain": [
       "<Figure size 640x480 with 1 Axes>"
      ]
     },
     "metadata": {},
     "output_type": "display_data"
    }
   ],
   "source": [
    "sns.countplot(data['Location'])\n",
    "plt.show()"
   ]
  },
  {
   "cell_type": "code",
   "execution_count": 13,
   "id": "9870d733",
   "metadata": {},
   "outputs": [
    {
     "name": "stderr",
     "output_type": "stream",
     "text": [
      "C:\\Users\\SHRIYA\\anaconda3\\lib\\site-packages\\seaborn\\_decorators.py:36: FutureWarning: Pass the following variable as a keyword arg: x. From version 0.12, the only valid positional argument will be `data`, and passing other arguments without an explicit keyword will result in an error or misinterpretation.\n",
      "  warnings.warn(\n"
     ]
    },
    {
     "data": {
      "image/png": "[encoded data removed]",
      "text/plain": [
       "<Figure size 640x480 with 1 Axes>"
      ]
     },
     "metadata": {},
     "output_type": "display_data"
    }
   ],
   "source": [
    "sns.countplot(data['Gender'])\n",
    "plt.show()"
   ]
  },
  {
   "cell_type": "code",
   "execution_count": 14,
   "id": "33b4b357",
   "metadata": {},
   "outputs": [
    {
     "data": {
      "image/png": "[encoded data removed]",
      "text/plain": [
       "<Figure size 640x480 with 1 Axes>"
      ]
     },
     "metadata": {},
     "output_type": "display_data"
    }
   ],
   "source": [
    "\n",
    "sns.countplot(x='Gender', hue='Churn', data=data)\n",
    "plt.xlabel('Gender')\n",
    "plt.ylabel('Count')\n",
    "plt.title('Churn Counts by Gender')\n",
    "plt.show()\n"
   ]
  },
  {
   "cell_type": "code",
   "execution_count": 15,
   "id": "91756071",
   "metadata": {},
   "outputs": [],
   "source": [
    "data = pd.get_dummies(data, columns=['Gender', 'Location'])"
   ]
  },
  {
   "cell_type": "code",
   "execution_count": 16,
   "id": "5fff4894",
   "metadata": {},
   "outputs": [
    {
     "data": {
      "text/html": [
       "<div>\n",
       "<style scoped>\n",
       "    .dataframe tbody tr th:only-of-type {\n",
       "        vertical-align: middle;\n",
       "    }\n",
       "\n",
       "    .dataframe tbody tr th {\n",
       "        vertical-align: top;\n",
       "    }\n",
       "\n",
       "    .dataframe thead th {\n",
       "        text-align: right;\n",
       "    }\n",
       "</style>\n",
       "<table border=\"1\" class=\"dataframe\">\n",
       "  <thead>\n",
       "    <tr style=\"text-align: right;\">\n",
       "      <th></th>\n",
       "      <th>Age</th>\n",
       "      <th>Subscription_Length_Months</th>\n",
       "      <th>Monthly_Bill</th>\n",
       "      <th>Total_Usage_GB</th>\n",
       "      <th>Churn</th>\n",
       "      <th>Gender_Female</th>\n",
       "      <th>Gender_Male</th>\n",
       "      <th>Location_Chicago</th>\n",
       "      <th>Location_Houston</th>\n",
       "      <th>Location_Los Angeles</th>\n",
       "      <th>Location_Miami</th>\n",
       "      <th>Location_New York</th>\n",
       "    </tr>\n",
       "  </thead>\n",
       "  <tbody>\n",
       "    <tr>\n",
       "      <th>0</th>\n",
       "      <td>63</td>\n",
       "      <td>17</td>\n",
       "      <td>73.36</td>\n",
       "      <td>236</td>\n",
       "      <td>0</td>\n",
       "      <td>0</td>\n",
       "      <td>1</td>\n",
       "      <td>0</td>\n",
       "      <td>0</td>\n",
       "      <td>1</td>\n",
       "      <td>0</td>\n",
       "      <td>0</td>\n",
       "    </tr>\n",
       "    <tr>\n",
       "      <th>1</th>\n",
       "      <td>62</td>\n",
       "      <td>1</td>\n",
       "      <td>48.76</td>\n",
       "      <td>172</td>\n",
       "      <td>0</td>\n",
       "      <td>1</td>\n",
       "      <td>0</td>\n",
       "      <td>0</td>\n",
       "      <td>0</td>\n",
       "      <td>0</td>\n",
       "      <td>0</td>\n",
       "      <td>1</td>\n",
       "    </tr>\n",
       "    <tr>\n",
       "      <th>2</th>\n",
       "      <td>24</td>\n",
       "      <td>5</td>\n",
       "      <td>85.47</td>\n",
       "      <td>460</td>\n",
       "      <td>0</td>\n",
       "      <td>1</td>\n",
       "      <td>0</td>\n",
       "      <td>0</td>\n",
       "      <td>0</td>\n",
       "      <td>1</td>\n",
       "      <td>0</td>\n",
       "      <td>0</td>\n",
       "    </tr>\n",
       "    <tr>\n",
       "      <th>3</th>\n",
       "      <td>36</td>\n",
       "      <td>3</td>\n",
       "      <td>97.94</td>\n",
       "      <td>297</td>\n",
       "      <td>1</td>\n",
       "      <td>1</td>\n",
       "      <td>0</td>\n",
       "      <td>0</td>\n",
       "      <td>0</td>\n",
       "      <td>0</td>\n",
       "      <td>1</td>\n",
       "      <td>0</td>\n",
       "    </tr>\n",
       "    <tr>\n",
       "      <th>4</th>\n",
       "      <td>46</td>\n",
       "      <td>19</td>\n",
       "      <td>58.14</td>\n",
       "      <td>266</td>\n",
       "      <td>0</td>\n",
       "      <td>1</td>\n",
       "      <td>0</td>\n",
       "      <td>0</td>\n",
       "      <td>0</td>\n",
       "      <td>0</td>\n",
       "      <td>1</td>\n",
       "      <td>0</td>\n",
       "    </tr>\n",
       "  </tbody>\n",
       "</table>\n",
       "</div>"
      ],
      "text/plain": [
       "   Age  Subscription_Length_Months  Monthly_Bill  Total_Usage_GB  Churn  \\\n",
       "0   63                          17         73.36             236      0   \n",
       "1   62                           1         48.76             172      0   \n",
       "2   24                           5         85.47             460      0   \n",
       "3   36                           3         97.94             297      1   \n",
       "4   46                          19         58.14             266      0   \n",
       "\n",
       "   Gender_Female  Gender_Male  Location_Chicago  Location_Houston  \\\n",
       "0              0            1                 0                 0   \n",
       "1              1            0                 0                 0   \n",
       "2              1            0                 0                 0   \n",
       "3              1            0                 0                 0   \n",
       "4              1            0                 0                 0   \n",
       "\n",
       "   Location_Los Angeles  Location_Miami  Location_New York  \n",
       "0                     1               0                  0  \n",
       "1                     0               0                  1  \n",
       "2                     1               0                  0  \n",
       "3                     0               1                  0  \n",
       "4                     0               1                  0  "
      ]
     },
     "execution_count": 16,
     "metadata": {},
     "output_type": "execute_result"
    }
   ],
   "source": [
    "data.head()"
   ]
  },
  {
   "cell_type": "code",
   "execution_count": 17,
   "id": "802383ec",
   "metadata": {},
   "outputs": [
    {
     "data": {
      "image/png": "[encoded data removed]",
      "text/plain": [
       "<Figure size 600x600 with 1 Axes>"
      ]
     },
     "metadata": {},
     "output_type": "display_data"
    }
   ],
   "source": [
    "churn_counts = data['Churn'].value_counts()\n",
    "\n",
    "# Create a pie chart\n",
    "plt.figure(figsize=(6, 6))\n",
    "plt.pie(churn_counts, labels=['Not Churned', 'Churned'], autopct='%1.1f%%', colors=['skyblue', 'lightcoral'])\n",
    "plt.title('Churn Distribution')\n",
    "plt.axis('equal')  # Equal aspect ratio ensures that pie is drawn as a circle.\n",
    "plt.show()\n"
   ]
  },
  {
   "cell_type": "markdown",
   "id": "3c8fb9ec",
   "metadata": {},
   "source": [
    "# Split the data into features (X) and target (y)\n"
   ]
  },
  {
   "cell_type": "code",
   "execution_count": 18,
   "id": "a08d192e",
   "metadata": {},
   "outputs": [],
   "source": [
    "X = data.drop('Churn', axis=1)\n",
    "y = data['Churn']\n"
   ]
  },
  {
   "cell_type": "markdown",
   "id": "cab748c6",
   "metadata": {},
   "source": [
    "# Split the data into training and testing sets\n"
   ]
  },
  {
   "cell_type": "code",
   "execution_count": 19,
   "id": "66148812",
   "metadata": {},
   "outputs": [],
   "source": [
    "X_train, X_test, y_train, y_test = train_test_split(X, y, test_size=0.2, random_state=42)\n",
    "\n",
    "\n",
    "\n"
   ]
  },
  {
   "cell_type": "markdown",
   "id": "2d539fa4",
   "metadata": {},
   "source": [
    "# 2. Feature Engineering:"
   ]
  },
  {
   "cell_type": "code",
   "execution_count": 20,
   "id": "55c2d9f0",
   "metadata": {},
   "outputs": [],
   "source": [
    "X_train['Bill_Usage_Ratio'] = X_train['Monthly_Bill'] / X_train['Total_Usage_GB']\n",
    "X_test['Bill_Usage_Ratio'] = X_test['Monthly_Bill'] / X_test['Total_Usage_GB']\n"
   ]
  },
  {
   "cell_type": "code",
   "execution_count": 21,
   "id": "5bbba682",
   "metadata": {},
   "outputs": [],
   "source": [
    "from sklearn.preprocessing import StandardScaler\n",
    "\n",
    "scaler = StandardScaler()\n",
    "X_train_scaled = scaler.fit_transform(X_train)\n",
    "X_test_scaled = scaler.transform(X_test)\n"
   ]
  },
  {
   "cell_type": "markdown",
   "id": "4324f618",
   "metadata": {},
   "source": [
    "# 3. Model Building:"
   ]
  },
  {
   "cell_type": "code",
   "execution_count": 31,
   "id": "efc42c6e",
   "metadata": {},
   "outputs": [
    {
     "name": "stdout",
     "output_type": "stream",
     "text": [
      "Random Forest Accuracy: 0.4987\n",
      "Gradient Boosting Accuracy: 0.5047\n"
     ]
    }
   ],
   "source": [
    "from sklearn.ensemble import RandomForestClassifier, GradientBoostingClassifier\n",
    "\n",
    "# Initialize and train the models\n",
    "rf_model = RandomForestClassifier(random_state=50, n_estimators=100, max_depth=10)\n",
    "rf_model.fit(X_train_scaled, y_train)\n",
    "\n",
    "gb_model = GradientBoostingClassifier(learning_rate= 0.01,random_state=42, n_estimators=100 ,max_depth=3)\n",
    "gb_model.fit(X_train_scaled, y_train)\n",
    "\n",
    "# Predict on the test set\n",
    "rf_preds = rf_model.predict(X_test_scaled)\n",
    "gb_preds = gb_model.predict(X_test_scaled)\n",
    "\n",
    "# Evaluate the models\n",
    "rf_accuracy = accuracy_score(y_test, rf_preds)\n",
    "gb_accuracy = accuracy_score(y_test, gb_preds)\n",
    "\n",
    "print(\"Random Forest Accuracy:\", rf_accuracy)\n",
    "print(\"Gradient Boosting Accuracy:\", gb_accuracy)\n"
   ]
  },
  {
   "cell_type": "code",
   "execution_count": 32,
   "id": "385cd761",
   "metadata": {},
   "outputs": [
    {
     "name": "stdout",
     "output_type": "stream",
     "text": [
      "Random Forest Accuracy (with new feature): 0.4987\n",
      "Gradient Boosting Accuracy (with new feature): 0.5047\n"
     ]
    }
   ],
   "source": [
    "# Generate additional features\n",
    "X_train['Bill_Age_Ratio'] = X_train['Monthly_Bill'] / X_train['Age']\n",
    "X_test['Bill_Age_Ratio'] = X_test['Monthly_Bill'] / X_test['Age']\n",
    "\n",
    "# Train and evaluate the models with the additional feature\n",
    "rf_model_with_new_feature= RandomForestClassifier(random_state=50, n_estimators=100, max_depth=10)\n",
    "rf_model_with_new_feature.fit(X_train_scaled, y_train)\n",
    "\n",
    "gb_model_with_new_feature = GradientBoostingClassifier(learning_rate= 0.01,random_state=42, n_estimators=100, max_depth=3)\n",
    "gb_model_with_new_feature.fit(X_train_scaled, y_train)\n",
    "\n",
    "# Predict on the test set\n",
    "rf_preds_with_new_feature = rf_model_with_new_feature.predict(X_test_scaled)\n",
    "gb_preds_with_new_feature = gb_model_with_new_feature.predict(X_test_scaled)\n",
    "\n",
    "# Evaluate the models\n",
    "rf_accuracy_with_new_feature = accuracy_score(y_test, rf_preds_with_new_feature)\n",
    "gb_accuracy_with_new_feature = accuracy_score(y_test, gb_preds_with_new_feature)\n",
    "\n",
    "print(\"Random Forest Accuracy (with new feature):\", rf_accuracy_with_new_feature)\n",
    "print(\"Gradient Boosting Accuracy (with new feature):\", gb_accuracy_with_new_feature)\n"
   ]
  },
  {
   "cell_type": "code",
   "execution_count": 33,
   "id": "1c1c422f",
   "metadata": {},
   "outputs": [
    {
     "name": "stdout",
     "output_type": "stream",
     "text": [
      "Ensemble Model Accuracy: 0.5041\n"
     ]
    }
   ],
   "source": [
    "from sklearn.ensemble import VotingClassifier\n",
    "\n",
    "# Combine models in a VotingClassifier\n",
    "ensemble_model = VotingClassifier(estimators=[\n",
    "    ('RandomForest', rf_model_with_new_feature),\n",
    "    ('GradientBoosting', gb_model_with_new_feature)\n",
    "], voting='hard')\n",
    "\n",
    "ensemble_model.fit(X_train_scaled, y_train)\n",
    "ensemble_preds = ensemble_model.predict(X_test_scaled)\n",
    "\n",
    "# Evaluate the ensemble model\n",
    "ensemble_accuracy = accuracy_score(y_test, ensemble_preds)\n",
    "print(\"Ensemble Model Accuracy:\", ensemble_accuracy)\n"
   ]
  },
  {
   "cell_type": "markdown",
   "id": "735eccde",
   "metadata": {},
   "source": [
    "#  4. Model Optimzation"
   ]
  },
  {
   "cell_type": "code",
   "execution_count": 25,
   "id": "1546b8c8",
   "metadata": {},
   "outputs": [
    {
     "name": "stdout",
     "output_type": "stream",
     "text": [
      "Best Parameters: {'learning_rate': 0.01, 'max_depth': 3, 'n_estimators': 100}\n"
     ]
    }
   ],
   "source": [
    "from sklearn.model_selection import GridSearchCV\n",
    "\n",
    "# Define hyperparameters to tune\n",
    "param_grid = {\n",
    "    'n_estimators': [50, 100, 200],\n",
    "    'max_depth': [3, 4, 5],  \n",
    "    'learning_rate': [0.01, 0.1, 0.2]\n",
    "}\n",
    "\n",
    "# Initialize GridSearchCV\n",
    "grid_search = GridSearchCV(GradientBoostingClassifier(random_state=50), param_grid, cv=5)\n",
    "grid_search.fit(X_train_scaled, y_train)\n",
    "\n",
    "# Get the best parameters\n",
    "best_params = grid_search.best_params_\n",
    "print(\"Best Parameters:\", best_params)\n"
   ]
  },
  {
   "cell_type": "code",
   "execution_count": 26,
   "id": "04367fdf",
   "metadata": {},
   "outputs": [
    {
     "data": {
      "text/plain": [
       "GradientBoostingClassifier(learning_rate=0.01, random_state=42)"
      ]
     },
     "execution_count": 26,
     "metadata": {},
     "output_type": "execute_result"
    }
   ],
   "source": [
    "best_gb_model = GradientBoostingClassifier(\n",
    "    n_estimators=best_params['n_estimators'],\n",
    "    max_depth=best_params['max_depth'],\n",
    "    learning_rate=best_params['learning_rate'],\n",
    "    random_state=42\n",
    ")\n",
    "\n",
    "best_gb_model.fit(X_train_scaled, y_train)\n"
   ]
  },
  {
   "cell_type": "code",
   "execution_count": 30,
   "id": "01dc735a",
   "metadata": {},
   "outputs": [
    {
     "name": "stdout",
     "output_type": "stream",
     "text": [
      "0.5047\n"
     ]
    }
   ],
   "source": [
    "gb_preds = best_gb_model.predict(X_test_scaled)\n",
    "accuracy = accuracy_score(y_test, gb_preds)\n",
    "print(accuracy)"
   ]
  },
  {
   "cell_type": "markdown",
   "id": "65777a92",
   "metadata": {},
   "source": [
    "# 5. Model Deployment"
   ]
  },
  {
   "cell_type": "code",
   "execution_count": 34,
   "id": "38d5978b",
   "metadata": {},
   "outputs": [
    {
     "name": "stdout",
     "output_type": "stream",
     "text": [
      "Churn Prediction for New Customer: [0]\n"
     ]
    },
    {
     "name": "stderr",
     "output_type": "stream",
     "text": [
      "C:\\Users\\SHRIYA\\anaconda3\\lib\\site-packages\\sklearn\\base.py:493: FutureWarning: The feature names should match those that were passed during fit. Starting version 1.2, an error will be raised.\n",
      "Feature names must be in the same order as they were in fit.\n",
      "\n",
      "  warnings.warn(message, FutureWarning)\n"
     ]
    }
   ],
   "source": [
    "def predict_churn(input_data):\n",
    "    # Preprocess input_data, apply feature scaling\n",
    "    input_scaled = scaler.transform(input_data)\n",
    "    \n",
    "    # Make predictions\n",
    "    predictions = ensemble_model.predict(input_scaled)\n",
    "    \n",
    "    return predictions\n",
    "\n",
    "# Simulate new customer data\n",
    "new_customer_data = pd.DataFrame({\n",
    "    'Age': [35],\n",
    "    'Subscription_Length_Months': [12],\n",
    "    'Monthly_Bill': [60.0],\n",
    "    'Total_Usage_GB': [300],\n",
    "    'Gender_Female': [1],  # Simulate Female gender\n",
    "    'Gender_Male': [0],\n",
    "    'Bill_Usage_Ratio':[0],\n",
    "    'Location_Los Angeles': [0],\n",
    "    'Location_Miami': [1],\n",
    "    'Location_Houston':[0],\n",
    "    'Location_New York':[0],\n",
    "    'Location_Chicago':[0]\n",
    "    \n",
    "})\n",
    "\n",
    "# Predict churn for the new customer\n",
    "new_customer_prediction = predict_churn(new_customer_data)\n",
    "print(\"Churn Prediction for New Customer:\", new_customer_prediction)\n"
   ]
  },
  {
   "cell_type": "code",
   "execution_count": null,
   "id": "d6bf869e",
   "metadata": {},
   "outputs": [],
   "source": []
  }
 ],
 "metadata": {
  "kernelspec": {
   "display_name": "Python 3 (ipykernel)",
   "language": "python",
   "name": "python3"
  },
  "language_info": {
   "codemirror_mode": {
    "name": "ipython",
    "version": 3
   },
   "file_extension": ".py",
   "mimetype": "text/x-python",
   "name": "python",
   "nbconvert_exporter": "python",
   "pygments_lexer": "ipython3",
   "version": "3.9.13"
  }
 },
 "nbformat": 4,
 "nbformat_minor": 5
}
